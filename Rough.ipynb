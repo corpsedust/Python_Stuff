{
 "cells": [
  {
   "cell_type": "code",
   "execution_count": 5,
   "metadata": {},
   "outputs": [
    {
     "data": {
      "text/plain": [
       "0"
      ]
     },
     "execution_count": 5,
     "metadata": {},
     "output_type": "execute_result"
    }
   ],
   "source": [
    "#Search in a rotated Array\n",
    "\n",
    "def search(self, nums, target):\n",
    "    \n",
    "    nums.sort()\n",
    "    left, right = 0 , len(nums) - 1\n",
    "\n",
    "    while left <= right:\n",
    "        mid = (left + right) //2\n",
    "        \n",
    "        \n",
    "        if nums[mid] > target:\n",
    "            right = mid - 1\n",
    "        if nums[mid] < target:\n",
    "            left = mid + 1\n",
    "        if nums[mid] == target:\n",
    "            return mid\n",
    "        \n",
    "    return left\n",
    "\n",
    "\n",
    "a1 = [4,5,6,7,0,1,2]\n",
    "target = 0\n",
    "search(0,a1,target)\n",
    "\n",
    "#This solution is wrong since you are changing nums array by sorting it\n",
    "#so whatever index that comes out is for the sorted array and not the original array\n",
    "#think of a way to do this without nums.sort()"
   ]
  },
  {
   "cell_type": "code",
   "execution_count": null,
   "metadata": {},
   "outputs": [],
   "source": [
    "#let's say I write a program here and I commit these changes\n",
    "#\"I have written something here that the other person does not know\""
   ]
  }
 ],
 "metadata": {
  "kernelspec": {
   "display_name": "Python 3",
   "language": "python",
   "name": "python3"
  },
  "language_info": {
   "codemirror_mode": {
    "name": "ipython",
    "version": 3
   },
   "file_extension": ".py",
   "mimetype": "text/x-python",
   "name": "python",
   "nbconvert_exporter": "python",
   "pygments_lexer": "ipython3",
   "version": "3.12.0"
  }
 },
 "nbformat": 4,
 "nbformat_minor": 2
}
