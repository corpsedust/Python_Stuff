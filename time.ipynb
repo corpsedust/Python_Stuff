{
 "cells": [
  {
   "cell_type": "markdown",
   "metadata": {},
   "source": [
    "### Notation \n",
    "\n",
    "Variables are described using capital letters of alphabet. For example, X for time dependent data and T for time.\n",
    "T - entire period of time over which data is recorded\n",
    "t - a single period of time within the interval T\n",
    "\n",
    "Example:\n",
    "\n",
    "X = Daily closing prices for 2008 of a stock\n",
    "T = Entire year\n",
    "t = single day\n",
    "\n",
    "price at a specific day = $X_{t}$\n",
    "\n",
    "previous period or next period = $X_{t-1}$ & $X_{t+1}$"
   ]
  },
  {
   "cell_type": "markdown",
   "metadata": {},
   "source": [
    "df.describe() gives a very general insight on the data. You can make some simple conclusins based on the value of stats. "
   ]
  },
  {
   "cell_type": "markdown",
   "metadata": {},
   "source": [
    "  "
   ]
  }
 ],
 "metadata": {
  "language_info": {
   "name": "python"
  }
 },
 "nbformat": 4,
 "nbformat_minor": 2
}
