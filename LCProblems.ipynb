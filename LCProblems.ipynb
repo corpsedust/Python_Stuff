{
 "cells": [
  {
   "cell_type": "markdown",
   "metadata": {},
   "source": [
    "### Problem no.2 : Add tow numbers, linked list"
   ]
  },
  {
   "cell_type": "code",
   "execution_count": 6,
   "metadata": {},
   "outputs": [
    {
     "name": "stdout",
     "output_type": "stream",
     "text": [
      "['0', '3', '0', '8']\n"
     ]
    }
   ],
   "source": [
    "l1 = [1,3,4]\n",
    "l2 = [7,8,9,6]\n",
    "\n",
    "\n",
    "class Single:\n",
    "    \n",
    "    def __init__ (self, val, next = None):\n",
    "        self.val = val\n",
    "        self.next = next\n",
    "\n",
    "def lst2link(lst):\n",
    "    curr = dummy  = Single(0)\n",
    "    for e in lst:\n",
    "        curr.next = Single(e)\n",
    "        curr = curr.next\n",
    "    return dummy.next       #This probably returns the head of \n",
    "                            #list but how is it linking?\n",
    "\n",
    "\n",
    "\n",
    "\n",
    "def link2number(head):\n",
    "    st = \"\"\n",
    "    curr = head\n",
    "    while curr:\n",
    "        st = st + str(curr.val)\n",
    "        curr = curr.next\n",
    "    return int(st)\n",
    "\n",
    "head1 = lst2link(l1)\n",
    "head2 = lst2link(l2)\n",
    "s = link2number(head1) + link2number(head2)\n",
    "s = str(s)[::-1]\n",
    "result = []\n",
    "\n",
    "for i in s:\n",
    "    result.append(i)\n",
    "    \n",
    "print(result)\n",
    "        \n",
    "\n"
   ]
  },
  {
   "cell_type": "markdown",
   "metadata": {},
   "source": [
    "Doing this how LeetCode wants it, that is under a Class Solution "
   ]
  },
  {
   "cell_type": "code",
   "execution_count": 7,
   "metadata": {},
   "outputs": [
    {
     "ename": "TypeError",
     "evalue": "Solution.addTwoNumbers() missing 1 required positional argument: 'l2'",
     "output_type": "error",
     "traceback": [
      "\u001b[1;31m---------------------------------------------------------------------------\u001b[0m",
      "\u001b[1;31mTypeError\u001b[0m                                 Traceback (most recent call last)",
      "Cell \u001b[1;32mIn[7], line 45\u001b[0m\n\u001b[0;32m     40\u001b[0m             result\u001b[38;5;241m.\u001b[39mappend(\u001b[38;5;28mint\u001b[39m(i))\n\u001b[0;32m     42\u001b[0m         \u001b[38;5;28;01mreturn\u001b[39;00m result\n\u001b[1;32m---> 45\u001b[0m \u001b[43mSolution\u001b[49m\u001b[38;5;241;43m.\u001b[39;49m\u001b[43maddTwoNumbers\u001b[49m\u001b[43m(\u001b[49m\u001b[43ml1\u001b[49m\u001b[43m,\u001b[49m\u001b[43ml2\u001b[49m\u001b[43m)\u001b[49m\n\u001b[0;32m     47\u001b[0m \u001b[38;5;66;03m#something going wrong with the self keyword shit, if I find a solution to that \u001b[39;00m\n\u001b[0;32m     48\u001b[0m \u001b[38;5;66;03m#LEET Code will have to accept my code \u001b[39;00m\n",
      "\u001b[1;31mTypeError\u001b[0m: Solution.addTwoNumbers() missing 1 required positional argument: 'l2'"
     ]
    }
   ],
   "source": [
    "#Definition for singly-linked list.\n",
    "\n",
    "l1 = [9,9,9,9,9,9,9]\n",
    "l2 = [9,9,9,9]\n",
    "\n",
    "\n",
    "class ListNode(object):\n",
    "    def __init__(self, val=0, next=None):\n",
    "        self.val = val\n",
    "        self.next = next\n",
    "        \n",
    "\n",
    "\n",
    "def lst2link(lst):                      #Converts iterable types to linked list\n",
    "    curr = dummy  = ListNode(0)          #Works for string too\n",
    "    for e in lst:\n",
    "        curr.next = ListNode(e)\n",
    "        curr = curr.next\n",
    "    return dummy.next\n",
    "\n",
    "\n",
    "def link2number(head):\n",
    "    st = \"\"\n",
    "    curr = head\n",
    "    while curr:\n",
    "        st = st + str(curr.val)\n",
    "        curr = curr.next\n",
    "    return int(st)        \n",
    "    \n",
    "    \n",
    "class Solution(object):\n",
    "\n",
    "\n",
    "    def addTwoNumbers(self, l1, l2):\n",
    "        head1 = lst2link(l1)\n",
    "        head2 = lst2link(l2)\n",
    "        s = str(link2number(head1) + link2number(head2))[::-1]\n",
    "        result  = []\n",
    "        for i in s:\n",
    "            result.append(int(i))\n",
    "        \n",
    "        return result\n",
    "\n",
    "\n",
    "Solution.addTwoNumbers(l1,l2)\n",
    "\n",
    "#something going wrong with the self keyword shit, if I find a solution to that \n",
    "#LEET Code will have to accept my code "
   ]
  },
  {
   "cell_type": "markdown",
   "metadata": {},
   "source": [
    "For some reason the code is failing if I pass \"self\" in the addTwoNumbers definition, also the code fails in its entirety on LeetCode.\n",
    "\n",
    "<font color = \"red\"> What to do? </font>\n",
    "Well, I am thinking of reading up or watching a tutorial on classes, to understand what the fuck they are and getting an idea of how they work here."
   ]
  },
  {
   "cell_type": "code",
   "execution_count": 1,
   "metadata": {},
   "outputs": [
    {
     "name": "stdout",
     "output_type": "stream",
     "text": [
      "Longest substring is: something\n"
     ]
    }
   ],
   "source": [
    "S = \"Theremustbesomethinginthis\"\n",
    "s1,s2, large = \"\", \"\", \"\"\n",
    "c,l = 0, 0\n",
    "a = []\n",
    "\n",
    "while(c < len(S)):\n",
    "    s1 = \"\"                                             #s1 is substring from each index \n",
    "    s2 = S[c:]                                          #to take substring from each index I am taking out first character with the help of \n",
    "    for i in s2:                                        #s2 and c, this goes untill c < len(S)                                        \n",
    "        if s1.find(i) == -1:                             \n",
    "            s1 = s1 + i\n",
    "        else:\n",
    "            break\n",
    "    if len(s1) > l:\n",
    "        l = len(s1)\n",
    "        large = s1\n",
    "    c += 1\n",
    "\n",
    "# for i in a:                                             #this can be moved in place of a.append(s1) to save memory and computation\n",
    "#     if len(i) > l:\n",
    "#         l = len(i)\n",
    "#         large = i;\n",
    "\n",
    "print(\"Longest substring is:\",large)"
   ]
  },
  {
   "cell_type": "code",
   "execution_count": 2,
   "metadata": {},
   "outputs": [],
   "source": [
    "# S = \"Theremustbesomethinginthis\"\n",
    "# c = 0 \n",
    "\n",
    "# while(c < len(S)):\n",
    "#     s = S[c:]\n",
    "#     print(s)\n",
    "#     c = c+1"
   ]
  },
  {
   "cell_type": "markdown",
   "metadata": {},
   "source": [
    "#### Median of two arrays"
   ]
  },
  {
   "cell_type": "code",
   "execution_count": 25,
   "metadata": {},
   "outputs": [
    {
     "data": {
      "text/plain": [
       "2.5"
      ]
     },
     "execution_count": 25,
     "metadata": {},
     "output_type": "execute_result"
    }
   ],
   "source": [
    "nums1 = [1,2]\n",
    "nums2 = [3,4]\n",
    "\n",
    "def median(nums1,nums2):\n",
    "    nums1.extend(nums2)                  #This is the most efficient way to merge two lists\n",
    "    nums1.sort()\n",
    "    n = len(nums1)\n",
    "    if (n%2 == 0):\n",
    "        return (nums1[n//2] + nums1[n//2 -1 ])/2   #-1 is used because index starts from 0 , numns1[2] + nums1[1]\n",
    "    if (n%2 != 0):                                  #// retruns the integer part of the division, it is needed because index is always integer\n",
    "        return nums1[n//2]                  \n",
    "\n",
    "median(nums1,nums2)\n"
   ]
  },
  {
   "cell_type": "code",
   "execution_count": null,
   "metadata": {},
   "outputs": [],
   "source": []
  },
  {
   "cell_type": "code",
   "execution_count": 29,
   "metadata": {},
   "outputs": [
    {
     "data": {
      "text/plain": [
       "11"
      ]
     },
     "execution_count": 29,
     "metadata": {},
     "output_type": "execute_result"
    }
   ],
   "source": []
  },
  {
   "cell_type": "code",
   "execution_count": null,
   "metadata": {},
   "outputs": [],
   "source": []
  }
 ],
 "metadata": {
  "kernelspec": {
   "display_name": "Python 3",
   "language": "python",
   "name": "python3"
  },
  "language_info": {
   "codemirror_mode": {
    "name": "ipython",
    "version": 3
   },
   "file_extension": ".py",
   "mimetype": "text/x-python",
   "name": "python",
   "nbconvert_exporter": "python",
   "pygments_lexer": "ipython3",
   "version": "3.12.0"
  }
 },
 "nbformat": 4,
 "nbformat_minor": 2
}
